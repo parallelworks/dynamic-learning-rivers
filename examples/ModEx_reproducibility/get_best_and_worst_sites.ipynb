{
 "cells": [
  {
   "cell_type": "markdown",
   "id": "f0d7d2f4-f023-442e-acd6-7878d6d81c99",
   "metadata": {},
   "source": [
    "# Get best and worst case scenarios\n",
    "\n",
    "See bottom part of the `README.md` for motivation. We want to get the best and worst data points to selectively train ML models. Strictly speaking, \"best\" and \"worst\" are not the best terms to be using for this, but they are immediately clear.  Really, it's more like \"data that are mostl likely to expand the horizons of an ML model\" and \"data that are most likely to reinforce the existing understanding of the ML model\".\n",
    "\n"
   ]
  },
  {
   "cell_type": "code",
   "execution_count": null,
   "id": "11fd099b-36a8-4656-9fdf-5c4c0ba30d82",
   "metadata": {},
   "outputs": [],
   "source": []
  }
 ],
 "metadata": {
  "kernelspec": {
   "display_name": "Python 3 (ipykernel)",
   "language": "python",
   "name": "python3"
  },
  "language_info": {
   "codemirror_mode": {
    "name": "ipython",
    "version": 3
   },
   "file_extension": ".py",
   "mimetype": "text/x-python",
   "name": "python",
   "nbconvert_exporter": "python",
   "pygments_lexer": "ipython3",
   "version": "3.11.5"
  }
 },
 "nbformat": 4,
 "nbformat_minor": 5
}
